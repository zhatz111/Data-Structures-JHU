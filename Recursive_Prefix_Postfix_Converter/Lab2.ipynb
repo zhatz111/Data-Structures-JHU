{
 "cells": [
  {
   "cell_type": "code",
   "execution_count": 27,
   "metadata": {},
   "outputs": [],
   "source": [
    "operator_list = [\"+\",\"-\",\"*\",\"/\",\"$\"]\n",
    "def preToPostRec(exp):\n",
    "    op = exp.pop(0)\n",
    "    op1 = preToPostRec(exp) if  exp[0][0] in operator_list else exp.pop(0)\n",
    "    op2 = preToPostRec(exp) if  exp[0][0] in operator_list else exp.pop(0)\n",
    "    res = \"\"\n",
    "    res += op1\n",
    "    res += op2\n",
    "    res += op\n",
    "    return res\n",
    "\n",
    "def convert(res):\n",
    "    r = \"\"\n",
    "    for i in res:\n",
    "        if isinstance(i, list):\n",
    "            r += convert(i)\n",
    "        else:\n",
    "            r += i\n",
    "    return r"
   ]
  },
  {
   "cell_type": "code",
   "execution_count": 28,
   "metadata": {},
   "outputs": [
    {
     "data": {
      "text/plain": [
       "'AB-C+DEF-+$'"
      ]
     },
     "execution_count": 28,
     "metadata": {},
     "output_type": "execute_result"
    }
   ],
   "source": [
    "res = preToPostRec(list(\"$+-ABC+D-EF\"))\n",
    "res"
   ]
  },
  {
   "cell_type": "code",
   "execution_count": 122,
   "metadata": {},
   "outputs": [],
   "source": [
    "\n",
    "def prefix_to_postfix(string_list):\n",
    "    \"\"\"This function will convert a prefix expression to a postfix\n",
    "    expression. It does this using a stack. A prefix string_list is passed\n",
    "    into the function and each character is iterated through from right\n",
    "    to left which is why the reverse function is called. Each character\n",
    "    is checked against the operator_list for a valid operation. If a\n",
    "    character is in the operator list and the stack contains greater than\n",
    "    one element then the stack is popped twice and those two characters\n",
    "    alogn with the operator character are combined together and pushed\n",
    "    to the stack. If the character is a letter than it is automatically\n",
    "    pushed to the stack. After all characters are iterated through the\n",
    "    characters in the stack are joined together and the result is the\n",
    "    converted postfix expression.\n",
    "\n",
    "    Args:\n",
    "        string_list (str): A prefix expression that needs to be converted to\n",
    "        postfix\n",
    "\n",
    "    Returns:\n",
    "        str: A postfix expression\n",
    "    \"\"\"\n",
    "    try:\n",
    "        operator_list = [\"+\",\"-\",\"*\",\"/\",\"$\"]\n",
    "        op = string_list.pop(0)\n",
    "        \n",
    "        if  string_list[0] in operator_list:\n",
    "            op1 = prefix_to_postfix(string_list)\n",
    "        else:\n",
    "            op1 = string_list.pop(0)\n",
    "\n",
    "        if  string_list[0] in operator_list:\n",
    "            op2 = prefix_to_postfix(string_list)\n",
    "        else:\n",
    "            op2 = string_list.pop(0)\n",
    "    except IndexError:\n",
    "        print(\"To many Operands in Pre-Fix String!\")\n",
    "    res = \"\"\n",
    "    res += op1\n",
    "    res += op2\n",
    "    res += op\n",
    "    return res\n",
    "\n",
    "def convert(res):\n",
    "    r = \"\"\n",
    "    for i in res:\n",
    "        if isinstance(i, list):\n",
    "            r += convert(i)\n",
    "        else:\n",
    "            r += i\n",
    "    return r"
   ]
  },
  {
   "cell_type": "code",
   "execution_count": 124,
   "metadata": {},
   "outputs": [],
   "source": [
    "def prefix_to_postfix(prefix_str, operator_count=0):\n",
    "    \"\"\"Converts a prefix string to postfix string and checks for the number of operators\"\"\"\n",
    "    operators = set(['+', '-', '*', '/'])\n",
    "    \n",
    "    if len(prefix_str) == 1:\n",
    "        if prefix_str in operators:\n",
    "            operator_count += 1\n",
    "        return prefix_str, operator_count\n",
    "    \n",
    "    left, operator_count = prefix_to_postfix(prefix_str[1:], operator_count)\n",
    "    right, operator_count = prefix_to_postfix(prefix_str[len(left)+1:], operator_count)\n",
    "    \n",
    "    if prefix_str[0] in operators:\n",
    "        operator_count += 1\n",
    "        return left + right + prefix_str[0], operator_count\n",
    "    else:\n",
    "        return prefix_str[0] + left + right, operator_count"
   ]
  },
  {
   "cell_type": "code",
   "execution_count": 140,
   "metadata": {},
   "outputs": [],
   "source": [
    "def prefix_to_postfix(prefix_str):\n",
    "    \"\"\"Converts a prefix string to postfix string and checks for the number of operators\"\"\"\n",
    "    operators = [\"+\",\"-\",\"*\",\"/\",\"$\"]\n",
    "    operator_count = 0\n",
    "    \n",
    "    def helper(i):\n",
    "        nonlocal operator_count\n",
    "        \n",
    "        if i >= len(prefix_str):\n",
    "            return \"\", True\n",
    "        \n",
    "        if prefix_str[i] in operators:\n",
    "            operator_count += 1\n",
    "            left, valid = helper(i+1)\n",
    "            if not valid:\n",
    "                return \"\", False\n",
    "            right, valid = helper(i+len(left)+1)\n",
    "            if not valid:\n",
    "                return \"\", False\n",
    "            return left + right + prefix_str[i], True\n",
    "        else:\n",
    "            return prefix_str[i], True\n",
    "    \n",
    "    postfix_str, valid = helper(0)\n",
    "    if not valid or operator_count != len(prefix_str) // 2:\n",
    "        if operator_count > len(prefix_str) // 2:\n",
    "            return print(f\"The prefix string '{prefix_str}' has too many Operaters!\")\n",
    "        if operator_count < len(prefix_str) // 2:\n",
    "            return print(f\"The prefix string '{prefix_str}' has too few Operaters!\")\n",
    "    else:\n",
    "        return postfix_str"
   ]
  },
  {
   "cell_type": "code",
   "execution_count": 144,
   "metadata": {},
   "outputs": [
    {
     "data": {
      "text/plain": [
       "'AB-C-BA+-'"
      ]
     },
     "execution_count": 144,
     "metadata": {},
     "output_type": "execute_result"
    }
   ],
   "source": [
    "res = prefix_to_postfix(\"---ABC+BA\")\n",
    "res"
   ]
  },
  {
   "cell_type": "code",
   "execution_count": 45,
   "metadata": {},
   "outputs": [],
   "source": [
    "test = list(\"$+-ABC+D-EF\")\n",
    "test_2 = \"$+-ABC+D-EF\""
   ]
  },
  {
   "cell_type": "code",
   "execution_count": 46,
   "metadata": {},
   "outputs": [
    {
     "name": "stdout",
     "output_type": "stream",
     "text": [
      "$\n",
      "$\n"
     ]
    }
   ],
   "source": [
    "print(test[0])\n",
    "print(test_2[0])"
   ]
  },
  {
   "cell_type": "code",
   "execution_count": null,
   "metadata": {},
   "outputs": [],
   "source": []
  }
 ],
 "metadata": {
  "kernelspec": {
   "display_name": "Python 3",
   "language": "python",
   "name": "python3"
  },
  "language_info": {
   "codemirror_mode": {
    "name": "ipython",
    "version": 3
   },
   "file_extension": ".py",
   "mimetype": "text/x-python",
   "name": "python",
   "nbconvert_exporter": "python",
   "pygments_lexer": "ipython3",
   "version": "3.11.1"
  },
  "orig_nbformat": 4,
  "vscode": {
   "interpreter": {
    "hash": "ab8c8e155b83bfd01f5b91222a44adc268e1f2299fa812cc815c61a35f259b0a"
   }
  }
 },
 "nbformat": 4,
 "nbformat_minor": 2
}
