{
 "cells": [
  {
   "cell_type": "code",
   "execution_count": 19,
   "metadata": {},
   "outputs": [
    {
     "name": "stdout",
     "output_type": "stream",
     "text": [
      "['A', '-', '19']\n",
      "['B', '-', '16']\n",
      "['C', '-', '17']\n",
      "['D', '-', '11']\n",
      "['E', '-', '42']\n",
      "['F', '-', '12']\n",
      "['G', '-', '14']\n",
      "['H', '-', '17']\n",
      "['I', '-', '16']\n",
      "['J', '-', '5']\n",
      "['K', '-', '10']\n",
      "['L', '-', '20']\n",
      "['M', '-', '19']\n",
      "['N', '-', '24']\n",
      "['O', '-', '18']\n",
      "['P', '-', '13']\n",
      "['Q', '-', '1']\n",
      "['R', '-', '25']\n",
      "['S', '-', '35']\n",
      "['T', '-', '25']\n",
      "['U', '-', '15']\n",
      "['V', '-', '5']\n",
      "['W', '-', '21']\n",
      "['X', '-', '2']\n",
      "['Y', '-', '8']\n",
      "['Z', '-', '3']\n"
     ]
    }
   ],
   "source": [
    "with open(\"FreqTable.txt\") as file:\n",
    "    for line in file:\n",
    "        print(line.strip().split())"
   ]
  },
  {
   "cell_type": "code",
   "execution_count": 24,
   "metadata": {},
   "outputs": [],
   "source": [
    "def file_to_dict(filename):\n",
    "    \"\"\"\n",
    "    Given a text file, reads in the file and converts it to a dictionary\n",
    "    with each line having a key and value associated.\n",
    "    \"\"\"\n",
    "    result = {}\n",
    "    with open(filename, encoding=\"utf-8\") as file:\n",
    "        for line in file:\n",
    "            key = line.strip().split()[0]\n",
    "            value = line.strip().split()[2]\n",
    "            result[key] = value\n",
    "    return result"
   ]
  },
  {
   "cell_type": "code",
   "execution_count": 25,
   "metadata": {},
   "outputs": [
    {
     "data": {
      "text/plain": [
       "{'A': '19',\n",
       " 'B': '16',\n",
       " 'C': '17',\n",
       " 'D': '11',\n",
       " 'E': '42',\n",
       " 'F': '12',\n",
       " 'G': '14',\n",
       " 'H': '17',\n",
       " 'I': '16',\n",
       " 'J': '5',\n",
       " 'K': '10',\n",
       " 'L': '20',\n",
       " 'M': '19',\n",
       " 'N': '24',\n",
       " 'O': '18',\n",
       " 'P': '13',\n",
       " 'Q': '1',\n",
       " 'R': '25',\n",
       " 'S': '35',\n",
       " 'T': '25',\n",
       " 'U': '15',\n",
       " 'V': '5',\n",
       " 'W': '21',\n",
       " 'X': '2',\n",
       " 'Y': '8',\n",
       " 'Z': '3'}"
      ]
     },
     "execution_count": 25,
     "metadata": {},
     "output_type": "execute_result"
    }
   ],
   "source": [
    "file_to_dict(\"FreqTable.txt\")"
   ]
  },
  {
   "cell_type": "code",
   "execution_count": 3,
   "metadata": {},
   "outputs": [
    {
     "data": {
      "text/plain": [
       "3"
      ]
     },
     "execution_count": 3,
     "metadata": {},
     "output_type": "execute_result"
    }
   ],
   "source": [
    "66 % 7"
   ]
  },
  {
   "cell_type": "code",
   "execution_count": null,
   "metadata": {},
   "outputs": [],
   "source": []
  }
 ],
 "metadata": {
  "kernelspec": {
   "display_name": "Python 3",
   "language": "python",
   "name": "python3"
  },
  "language_info": {
   "codemirror_mode": {
    "name": "ipython",
    "version": 3
   },
   "file_extension": ".py",
   "mimetype": "text/x-python",
   "name": "python",
   "nbconvert_exporter": "python",
   "pygments_lexer": "ipython3",
   "version": "3.11.1"
  },
  "orig_nbformat": 4,
  "vscode": {
   "interpreter": {
    "hash": "ab8c8e155b83bfd01f5b91222a44adc268e1f2299fa812cc815c61a35f259b0a"
   }
  }
 },
 "nbformat": 4,
 "nbformat_minor": 2
}
