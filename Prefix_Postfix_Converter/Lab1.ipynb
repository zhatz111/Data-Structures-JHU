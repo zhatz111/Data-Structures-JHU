{
 "cells": [
  {
   "cell_type": "code",
   "execution_count": null,
   "metadata": {},
   "outputs": [],
   "source": [
    "class Stack():\n",
    "\n",
    "    def __init__(self):\n",
    "        self.stack = []\n",
    "\n",
    "    def isEmpty(self):\n",
    "        if len(self.stack) <= 0:\n",
    "            return True\n",
    "        else:\n",
    "            return False\n",
    "\n",
    "    def pop(self):\n",
    "        if self.isEmpty():\n",
    "            print(\"Stack Underflow!\")\n",
    "        else:\n",
    "            return self.stack.pop()        \n",
    "\n",
    "    def push(self, char):\n",
    "        return self.stack.append(char)"
   ]
  },
  {
   "cell_type": "code",
   "execution_count": 11,
   "metadata": {},
   "outputs": [],
   "source": [
    "def prefix_to_postfix(string):\n",
    "    stack = Stack()\n",
    "    operator_list = [\"+\",\"-\",\"*\",\"/\",\"$\"]\n",
    "    for char in string[::-1]:\n",
    "        if char != \" \":\n",
    "            if (char in operator_list) and (len(stack.stack) > 1):\n",
    "                char1 = stack.pop()\n",
    "                char2 = stack.pop()\n",
    "                combine = char1 + char2 + char\n",
    "                stack.push(combine)\n",
    "            else:\n",
    "                stack.push(char)\n",
    "    postfix = \"\".join(stack.stack)\n",
    "    print(postfix)\n",
    "    return postfix"
   ]
  },
  {
   "cell_type": "code",
   "execution_count": 12,
   "metadata": {},
   "outputs": [
    {
     "name": "stdout",
     "output_type": "stream",
     "text": [
      "AB+C-\n",
      "ABC+-\n",
      "AB-C+DEF-+$\n",
      "ABCDE-+$*EF*-\n",
      "ABC+*CBA-+*\n",
      "CBA*+ABC+/\n",
      "AB-C*BA+-*\n",
      "ABC-/BA-+/\n",
      "ABC+$CBA-+*\n",
      "AB0+/CBA+-/\n",
      "\t\t\t\t\tCBA-+CA^$B*\n",
      "\t\t\t\t\t\t\n",
      "\t\t\t\t\n",
      "\t\t\t\t\t\n",
      "\t\t\t\t\t\n",
      "\t\n",
      "\n"
     ]
    }
   ],
   "source": [
    "file = open(\"Required_Input.txt\", \"r\", encoding=\"utf-8\")\n",
    "prefix = file.read().splitlines()\n",
    "for line in prefix:\n",
    "    prefix_to_postfix(line)"
   ]
  },
  {
   "cell_type": "code",
   "execution_count": null,
   "metadata": {},
   "outputs": [],
   "source": []
  }
 ],
 "metadata": {
  "kernelspec": {
   "display_name": "Python 3",
   "language": "python",
   "name": "python3"
  },
  "language_info": {
   "codemirror_mode": {
    "name": "ipython",
    "version": 3
   },
   "file_extension": ".py",
   "mimetype": "text/x-python",
   "name": "python",
   "nbconvert_exporter": "python",
   "pygments_lexer": "ipython3",
   "version": "3.11.1"
  },
  "orig_nbformat": 4,
  "vscode": {
   "interpreter": {
    "hash": "ab8c8e155b83bfd01f5b91222a44adc268e1f2299fa812cc815c61a35f259b0a"
   }
  }
 },
 "nbformat": 4,
 "nbformat_minor": 2
}
